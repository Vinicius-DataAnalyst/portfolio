{
  "nbformat": 4,
  "nbformat_minor": 0,
  "metadata": {
    "colab": {
      "provenance": [],
      "mount_file_id": "1oO3ce3X-hDzvoXB0jd1gbRtw0q-5uOxo",
      "authorship_tag": "ABX9TyPLhe3ciCN4/s5CsoHGatGF",
      "include_colab_link": true
    },
    "kernelspec": {
      "name": "python3",
      "display_name": "Python 3"
    },
    "language_info": {
      "name": "python"
    }
  },
  "cells": [
    {
      "cell_type": "markdown",
      "metadata": {
        "id": "view-in-github",
        "colab_type": "text"
      },
      "source": [
        "<a href=\"https://colab.research.google.com/github/Vinicius-DataAnalyst/portfolio/blob/main/01_PROJ_Unicorn_March2025.ipynb\" target=\"_parent\"><img src=\"https://colab.research.google.com/assets/colab-badge.svg\" alt=\"Open In Colab\"/></a>"
      ]
    },
    {
      "cell_type": "markdown",
      "source": [
        "**Unicorns**\n",
        "Analisando base de dados de startups que viraram unicornios (+ US$ 1 Bi)"
      ],
      "metadata": {
        "id": "jPYINTF3ywoU"
      }
    },
    {
      "cell_type": "markdown",
      "source": [
        "# Montando o drive e importando bibliotecas"
      ],
      "metadata": {
        "id": "g452Au5u7TLK"
      }
    },
    {
      "cell_type": "markdown",
      "source": [
        "## Caminho do arquivo"
      ],
      "metadata": {
        "id": "9fIjGpKG1zwm"
      }
    },
    {
      "cell_type": "code",
      "execution_count": null,
      "metadata": {
        "id": "nr7p0IzuxxfW"
      },
      "outputs": [],
      "source": [
        "csv_path = '/content/drive/MyDrive/Colab Notebooks/recursos/Startups+in+2021+end.csv'"
      ]
    },
    {
      "cell_type": "markdown",
      "source": [
        "## Bibliotecas importadas"
      ],
      "metadata": {
        "id": "Fq--ecy615Rx"
      }
    },
    {
      "cell_type": "code",
      "source": [
        "import numpy as np\n",
        "import pandas as pd\n",
        "import matplotlib.pyplot as plt\n",
        "import seaborn as sns\n",
        "\n",
        "import warnings\n",
        "warnings.filterwarnings('ignore')"
      ],
      "metadata": {
        "id": "_sVUTVapyveq"
      },
      "execution_count": null,
      "outputs": []
    },
    {
      "cell_type": "markdown",
      "source": [
        "# Impressao incial"
      ],
      "metadata": {
        "id": "a8Qu9JnF6_5H"
      }
    },
    {
      "cell_type": "markdown",
      "source": [
        "## Lendo e abrindo a base"
      ],
      "metadata": {
        "id": "Ty8RHUEG2Ah0"
      }
    },
    {
      "cell_type": "code",
      "source": [
        "df = pd.read_csv(csv_path).sort_values(by=['Valuation ($B)'], ascending = False)"
      ],
      "metadata": {
        "id": "2WNu2V0M0-R7"
      },
      "execution_count": null,
      "outputs": []
    },
    {
      "cell_type": "code",
      "source": [
        "df.sample(5)"
      ],
      "metadata": {
        "colab": {
          "base_uri": "https://localhost:8080/",
          "height": 206
        },
        "id": "vXL5OnNw1Gh8",
        "outputId": "9a3c7206-18b5-4480-f339-1246e7b720c3"
      },
      "execution_count": null,
      "outputs": [
        {
          "output_type": "execute_result",
          "data": {
            "text/plain": [
              "     Unnamed: 0             Company Valuation ($B) Date Joined        Country  \\\n",
              "717         717           Vox Media             $1   8/12/2015  United States   \n",
              "760         760     REEF Technology             $1  12/10/2018  United States   \n",
              "712         712              BeiBei             $1   1/22/2015          China   \n",
              "704         704  OrCam Technologies          $1.03   2/20/2018         Israel   \n",
              "192         192           HyalRoute           $3.5   5/26/2020      Singapore   \n",
              "\n",
              "           City                             Industry  \\\n",
              "717  Washington         Internet software & services   \n",
              "760       Miami  Supply chain, logistics, & delivery   \n",
              "712    Hangzhou      E-commerce & direct-to-consumer   \n",
              "704   Jerusalem              Artificial intelligence   \n",
              "192         NaN          Mobile & telecommunications   \n",
              "\n",
              "                                      Select Investors  \n",
              "717  Accel Partners, Comcast Ventures, General Atla...  \n",
              "760  Target Global, UBS Asset Management, Mubadala ...  \n",
              "712  Banyan Capital, New Horizon Capital, IDG Capit...  \n",
              "704                Intel Capital, Aviv Venture Capital  \n",
              "192                                          Kuang-Chi  "
            ],
            "text/html": [
              "\n",
              "  <div id=\"df-e3eb7093-8d8e-47e2-b956-6c052cc1bbe8\" class=\"colab-df-container\">\n",
              "    <div>\n",
              "<style scoped>\n",
              "    .dataframe tbody tr th:only-of-type {\n",
              "        vertical-align: middle;\n",
              "    }\n",
              "\n",
              "    .dataframe tbody tr th {\n",
              "        vertical-align: top;\n",
              "    }\n",
              "\n",
              "    .dataframe thead th {\n",
              "        text-align: right;\n",
              "    }\n",
              "</style>\n",
              "<table border=\"1\" class=\"dataframe\">\n",
              "  <thead>\n",
              "    <tr style=\"text-align: right;\">\n",
              "      <th></th>\n",
              "      <th>Unnamed: 0</th>\n",
              "      <th>Company</th>\n",
              "      <th>Valuation ($B)</th>\n",
              "      <th>Date Joined</th>\n",
              "      <th>Country</th>\n",
              "      <th>City</th>\n",
              "      <th>Industry</th>\n",
              "      <th>Select Investors</th>\n",
              "    </tr>\n",
              "  </thead>\n",
              "  <tbody>\n",
              "    <tr>\n",
              "      <th>717</th>\n",
              "      <td>717</td>\n",
              "      <td>Vox Media</td>\n",
              "      <td>$1</td>\n",
              "      <td>8/12/2015</td>\n",
              "      <td>United States</td>\n",
              "      <td>Washington</td>\n",
              "      <td>Internet software &amp; services</td>\n",
              "      <td>Accel Partners, Comcast Ventures, General Atla...</td>\n",
              "    </tr>\n",
              "    <tr>\n",
              "      <th>760</th>\n",
              "      <td>760</td>\n",
              "      <td>REEF Technology</td>\n",
              "      <td>$1</td>\n",
              "      <td>12/10/2018</td>\n",
              "      <td>United States</td>\n",
              "      <td>Miami</td>\n",
              "      <td>Supply chain, logistics, &amp; delivery</td>\n",
              "      <td>Target Global, UBS Asset Management, Mubadala ...</td>\n",
              "    </tr>\n",
              "    <tr>\n",
              "      <th>712</th>\n",
              "      <td>712</td>\n",
              "      <td>BeiBei</td>\n",
              "      <td>$1</td>\n",
              "      <td>1/22/2015</td>\n",
              "      <td>China</td>\n",
              "      <td>Hangzhou</td>\n",
              "      <td>E-commerce &amp; direct-to-consumer</td>\n",
              "      <td>Banyan Capital, New Horizon Capital, IDG Capit...</td>\n",
              "    </tr>\n",
              "    <tr>\n",
              "      <th>704</th>\n",
              "      <td>704</td>\n",
              "      <td>OrCam Technologies</td>\n",
              "      <td>$1.03</td>\n",
              "      <td>2/20/2018</td>\n",
              "      <td>Israel</td>\n",
              "      <td>Jerusalem</td>\n",
              "      <td>Artificial intelligence</td>\n",
              "      <td>Intel Capital, Aviv Venture Capital</td>\n",
              "    </tr>\n",
              "    <tr>\n",
              "      <th>192</th>\n",
              "      <td>192</td>\n",
              "      <td>HyalRoute</td>\n",
              "      <td>$3.5</td>\n",
              "      <td>5/26/2020</td>\n",
              "      <td>Singapore</td>\n",
              "      <td>NaN</td>\n",
              "      <td>Mobile &amp; telecommunications</td>\n",
              "      <td>Kuang-Chi</td>\n",
              "    </tr>\n",
              "  </tbody>\n",
              "</table>\n",
              "</div>\n",
              "    <div class=\"colab-df-buttons\">\n",
              "\n",
              "  <div class=\"colab-df-container\">\n",
              "    <button class=\"colab-df-convert\" onclick=\"convertToInteractive('df-e3eb7093-8d8e-47e2-b956-6c052cc1bbe8')\"\n",
              "            title=\"Convert this dataframe to an interactive table.\"\n",
              "            style=\"display:none;\">\n",
              "\n",
              "  <svg xmlns=\"http://www.w3.org/2000/svg\" height=\"24px\" viewBox=\"0 -960 960 960\">\n",
              "    <path d=\"M120-120v-720h720v720H120Zm60-500h600v-160H180v160Zm220 220h160v-160H400v160Zm0 220h160v-160H400v160ZM180-400h160v-160H180v160Zm440 0h160v-160H620v160ZM180-180h160v-160H180v160Zm440 0h160v-160H620v160Z\"/>\n",
              "  </svg>\n",
              "    </button>\n",
              "\n",
              "  <style>\n",
              "    .colab-df-container {\n",
              "      display:flex;\n",
              "      gap: 12px;\n",
              "    }\n",
              "\n",
              "    .colab-df-convert {\n",
              "      background-color: #E8F0FE;\n",
              "      border: none;\n",
              "      border-radius: 50%;\n",
              "      cursor: pointer;\n",
              "      display: none;\n",
              "      fill: #1967D2;\n",
              "      height: 32px;\n",
              "      padding: 0 0 0 0;\n",
              "      width: 32px;\n",
              "    }\n",
              "\n",
              "    .colab-df-convert:hover {\n",
              "      background-color: #E2EBFA;\n",
              "      box-shadow: 0px 1px 2px rgba(60, 64, 67, 0.3), 0px 1px 3px 1px rgba(60, 64, 67, 0.15);\n",
              "      fill: #174EA6;\n",
              "    }\n",
              "\n",
              "    .colab-df-buttons div {\n",
              "      margin-bottom: 4px;\n",
              "    }\n",
              "\n",
              "    [theme=dark] .colab-df-convert {\n",
              "      background-color: #3B4455;\n",
              "      fill: #D2E3FC;\n",
              "    }\n",
              "\n",
              "    [theme=dark] .colab-df-convert:hover {\n",
              "      background-color: #434B5C;\n",
              "      box-shadow: 0px 1px 3px 1px rgba(0, 0, 0, 0.15);\n",
              "      filter: drop-shadow(0px 1px 2px rgba(0, 0, 0, 0.3));\n",
              "      fill: #FFFFFF;\n",
              "    }\n",
              "  </style>\n",
              "\n",
              "    <script>\n",
              "      const buttonEl =\n",
              "        document.querySelector('#df-e3eb7093-8d8e-47e2-b956-6c052cc1bbe8 button.colab-df-convert');\n",
              "      buttonEl.style.display =\n",
              "        google.colab.kernel.accessAllowed ? 'block' : 'none';\n",
              "\n",
              "      async function convertToInteractive(key) {\n",
              "        const element = document.querySelector('#df-e3eb7093-8d8e-47e2-b956-6c052cc1bbe8');\n",
              "        const dataTable =\n",
              "          await google.colab.kernel.invokeFunction('convertToInteractive',\n",
              "                                                    [key], {});\n",
              "        if (!dataTable) return;\n",
              "\n",
              "        const docLinkHtml = 'Like what you see? Visit the ' +\n",
              "          '<a target=\"_blank\" href=https://colab.research.google.com/notebooks/data_table.ipynb>data table notebook</a>'\n",
              "          + ' to learn more about interactive tables.';\n",
              "        element.innerHTML = '';\n",
              "        dataTable['output_type'] = 'display_data';\n",
              "        await google.colab.output.renderOutput(dataTable, element);\n",
              "        const docLink = document.createElement('div');\n",
              "        docLink.innerHTML = docLinkHtml;\n",
              "        element.appendChild(docLink);\n",
              "      }\n",
              "    </script>\n",
              "  </div>\n",
              "\n",
              "\n",
              "<div id=\"df-81e708eb-17c7-40e3-bac1-bad202e1bc76\">\n",
              "  <button class=\"colab-df-quickchart\" onclick=\"quickchart('df-81e708eb-17c7-40e3-bac1-bad202e1bc76')\"\n",
              "            title=\"Suggest charts\"\n",
              "            style=\"display:none;\">\n",
              "\n",
              "<svg xmlns=\"http://www.w3.org/2000/svg\" height=\"24px\"viewBox=\"0 0 24 24\"\n",
              "     width=\"24px\">\n",
              "    <g>\n",
              "        <path d=\"M19 3H5c-1.1 0-2 .9-2 2v14c0 1.1.9 2 2 2h14c1.1 0 2-.9 2-2V5c0-1.1-.9-2-2-2zM9 17H7v-7h2v7zm4 0h-2V7h2v10zm4 0h-2v-4h2v4z\"/>\n",
              "    </g>\n",
              "</svg>\n",
              "  </button>\n",
              "\n",
              "<style>\n",
              "  .colab-df-quickchart {\n",
              "      --bg-color: #E8F0FE;\n",
              "      --fill-color: #1967D2;\n",
              "      --hover-bg-color: #E2EBFA;\n",
              "      --hover-fill-color: #174EA6;\n",
              "      --disabled-fill-color: #AAA;\n",
              "      --disabled-bg-color: #DDD;\n",
              "  }\n",
              "\n",
              "  [theme=dark] .colab-df-quickchart {\n",
              "      --bg-color: #3B4455;\n",
              "      --fill-color: #D2E3FC;\n",
              "      --hover-bg-color: #434B5C;\n",
              "      --hover-fill-color: #FFFFFF;\n",
              "      --disabled-bg-color: #3B4455;\n",
              "      --disabled-fill-color: #666;\n",
              "  }\n",
              "\n",
              "  .colab-df-quickchart {\n",
              "    background-color: var(--bg-color);\n",
              "    border: none;\n",
              "    border-radius: 50%;\n",
              "    cursor: pointer;\n",
              "    display: none;\n",
              "    fill: var(--fill-color);\n",
              "    height: 32px;\n",
              "    padding: 0;\n",
              "    width: 32px;\n",
              "  }\n",
              "\n",
              "  .colab-df-quickchart:hover {\n",
              "    background-color: var(--hover-bg-color);\n",
              "    box-shadow: 0 1px 2px rgba(60, 64, 67, 0.3), 0 1px 3px 1px rgba(60, 64, 67, 0.15);\n",
              "    fill: var(--button-hover-fill-color);\n",
              "  }\n",
              "\n",
              "  .colab-df-quickchart-complete:disabled,\n",
              "  .colab-df-quickchart-complete:disabled:hover {\n",
              "    background-color: var(--disabled-bg-color);\n",
              "    fill: var(--disabled-fill-color);\n",
              "    box-shadow: none;\n",
              "  }\n",
              "\n",
              "  .colab-df-spinner {\n",
              "    border: 2px solid var(--fill-color);\n",
              "    border-color: transparent;\n",
              "    border-bottom-color: var(--fill-color);\n",
              "    animation:\n",
              "      spin 1s steps(1) infinite;\n",
              "  }\n",
              "\n",
              "  @keyframes spin {\n",
              "    0% {\n",
              "      border-color: transparent;\n",
              "      border-bottom-color: var(--fill-color);\n",
              "      border-left-color: var(--fill-color);\n",
              "    }\n",
              "    20% {\n",
              "      border-color: transparent;\n",
              "      border-left-color: var(--fill-color);\n",
              "      border-top-color: var(--fill-color);\n",
              "    }\n",
              "    30% {\n",
              "      border-color: transparent;\n",
              "      border-left-color: var(--fill-color);\n",
              "      border-top-color: var(--fill-color);\n",
              "      border-right-color: var(--fill-color);\n",
              "    }\n",
              "    40% {\n",
              "      border-color: transparent;\n",
              "      border-right-color: var(--fill-color);\n",
              "      border-top-color: var(--fill-color);\n",
              "    }\n",
              "    60% {\n",
              "      border-color: transparent;\n",
              "      border-right-color: var(--fill-color);\n",
              "    }\n",
              "    80% {\n",
              "      border-color: transparent;\n",
              "      border-right-color: var(--fill-color);\n",
              "      border-bottom-color: var(--fill-color);\n",
              "    }\n",
              "    90% {\n",
              "      border-color: transparent;\n",
              "      border-bottom-color: var(--fill-color);\n",
              "    }\n",
              "  }\n",
              "</style>\n",
              "\n",
              "  <script>\n",
              "    async function quickchart(key) {\n",
              "      const quickchartButtonEl =\n",
              "        document.querySelector('#' + key + ' button');\n",
              "      quickchartButtonEl.disabled = true;  // To prevent multiple clicks.\n",
              "      quickchartButtonEl.classList.add('colab-df-spinner');\n",
              "      try {\n",
              "        const charts = await google.colab.kernel.invokeFunction(\n",
              "            'suggestCharts', [key], {});\n",
              "      } catch (error) {\n",
              "        console.error('Error during call to suggestCharts:', error);\n",
              "      }\n",
              "      quickchartButtonEl.classList.remove('colab-df-spinner');\n",
              "      quickchartButtonEl.classList.add('colab-df-quickchart-complete');\n",
              "    }\n",
              "    (() => {\n",
              "      let quickchartButtonEl =\n",
              "        document.querySelector('#df-81e708eb-17c7-40e3-bac1-bad202e1bc76 button');\n",
              "      quickchartButtonEl.style.display =\n",
              "        google.colab.kernel.accessAllowed ? 'block' : 'none';\n",
              "    })();\n",
              "  </script>\n",
              "</div>\n",
              "\n",
              "    </div>\n",
              "  </div>\n"
            ],
            "application/vnd.google.colaboratory.intrinsic+json": {
              "type": "dataframe",
              "repr_error": "0"
            }
          },
          "metadata": {},
          "execution_count": 4
        }
      ]
    },
    {
      "cell_type": "markdown",
      "source": [
        "# Discutindo sobre possíveis perguntas e respostas sobre essa base"
      ],
      "metadata": {
        "id": "JSxlXQzj2K_Q"
      }
    },
    {
      "cell_type": "markdown",
      "source": [
        "O que temos:\n",
        "\n",
        "\n",
        "1.   Nome da compania\n",
        "2.   Valuation\n",
        "3.   Início\n",
        "4.   País\n",
        "5.   Cidade\n",
        "6.   Tipo de atividade\n",
        "7.   Investidores\n",
        "\n",
        "Perguntas possíveis iniciais:\n",
        "* Gere um gráfico que mostre a velocidade com a qual as top 10 mais rápidas cresceram e as top últimas cresceram.\n",
        "\n",
        "* Qual é a distribuição por país desses unicórnios?\n",
        "\n",
        "* Qual o tipo de atividade desses unicórnios?\n",
        "\n",
        "Transformações necessárias antes de gerar informação útil:\n",
        "* Verificar qualidade dos dados\n",
        "* verificar tipo dos dados"
      ],
      "metadata": {
        "id": "Krz-LEP92TUs"
      }
    },
    {
      "cell_type": "markdown",
      "source": [
        "# Qualidade dos dados"
      ],
      "metadata": {
        "id": "fjvzery-793V"
      }
    },
    {
      "cell_type": "code",
      "source": [
        "# verficar o shape: linhas e colunas\n",
        "df.shape"
      ],
      "metadata": {
        "colab": {
          "base_uri": "https://localhost:8080/"
        },
        "id": "DiJon-Om8QWP",
        "outputId": "15c0e115-6d7c-4440-bb32-679dcfca167b"
      },
      "execution_count": null,
      "outputs": [
        {
          "output_type": "execute_result",
          "data": {
            "text/plain": [
              "(936, 8)"
            ]
          },
          "metadata": {},
          "execution_count": 5
        }
      ]
    },
    {
      "cell_type": "code",
      "source": [
        "# verificando tipo dos dados\n",
        "df.info()"
      ],
      "metadata": {
        "id": "p8SOipBl2b5b",
        "colab": {
          "base_uri": "https://localhost:8080/"
        },
        "outputId": "8983a1ad-9675-413b-bf67-c665ac1860f1"
      },
      "execution_count": null,
      "outputs": [
        {
          "output_type": "stream",
          "name": "stdout",
          "text": [
            "<class 'pandas.core.frame.DataFrame'>\n",
            "Index: 936 entries, 2 to 935\n",
            "Data columns (total 8 columns):\n",
            " #   Column            Non-Null Count  Dtype \n",
            "---  ------            --------------  ----- \n",
            " 0   Unnamed: 0        936 non-null    int64 \n",
            " 1   Company           936 non-null    object\n",
            " 2   Valuation ($B)    936 non-null    object\n",
            " 3   Date Joined       936 non-null    object\n",
            " 4   Country           936 non-null    object\n",
            " 5   City              921 non-null    object\n",
            " 6   Industry          936 non-null    object\n",
            " 7   Select Investors  935 non-null    object\n",
            "dtypes: int64(1), object(7)\n",
            "memory usage: 65.8+ KB\n"
          ]
        }
      ]
    },
    {
      "cell_type": "markdown",
      "source": [
        "## Observações dos tipos de dados\n",
        "1. O valuation deve ter o sifrão ($) retirado para então transformar esse campo em float\n",
        "2. Date Joined deve ser trasnformado para virar DateTime\n",
        "3. Coluna 'Unnamed: 0' deve ser retirada pois coincide com o próprio index. Então o index já pode ser o id da coluna nesse cenário simples."
      ],
      "metadata": {
        "id": "sovZXIHh8jg0"
      }
    },
    {
      "cell_type": "markdown",
      "source": [
        "## Avaliar valores nulos"
      ],
      "metadata": {
        "id": "jJKqeoTJ9Wup"
      }
    },
    {
      "cell_type": "code",
      "source": [
        "df.isnull().sum()"
      ],
      "metadata": {
        "colab": {
          "base_uri": "https://localhost:8080/",
          "height": 335
        },
        "id": "LC_RtpKi8gHq",
        "outputId": "dae611fb-1feb-4d0d-9185-8390fd35e2fd"
      },
      "execution_count": null,
      "outputs": [
        {
          "output_type": "execute_result",
          "data": {
            "text/plain": [
              "Unnamed: 0           0\n",
              "Company              0\n",
              "Valuation ($B)       0\n",
              "Date Joined          0\n",
              "Country              0\n",
              "City                15\n",
              "Industry             0\n",
              "Select Investors     1\n",
              "dtype: int64"
            ],
            "text/html": [
              "<div>\n",
              "<style scoped>\n",
              "    .dataframe tbody tr th:only-of-type {\n",
              "        vertical-align: middle;\n",
              "    }\n",
              "\n",
              "    .dataframe tbody tr th {\n",
              "        vertical-align: top;\n",
              "    }\n",
              "\n",
              "    .dataframe thead th {\n",
              "        text-align: right;\n",
              "    }\n",
              "</style>\n",
              "<table border=\"1\" class=\"dataframe\">\n",
              "  <thead>\n",
              "    <tr style=\"text-align: right;\">\n",
              "      <th></th>\n",
              "      <th>0</th>\n",
              "    </tr>\n",
              "  </thead>\n",
              "  <tbody>\n",
              "    <tr>\n",
              "      <th>Unnamed: 0</th>\n",
              "      <td>0</td>\n",
              "    </tr>\n",
              "    <tr>\n",
              "      <th>Company</th>\n",
              "      <td>0</td>\n",
              "    </tr>\n",
              "    <tr>\n",
              "      <th>Valuation ($B)</th>\n",
              "      <td>0</td>\n",
              "    </tr>\n",
              "    <tr>\n",
              "      <th>Date Joined</th>\n",
              "      <td>0</td>\n",
              "    </tr>\n",
              "    <tr>\n",
              "      <th>Country</th>\n",
              "      <td>0</td>\n",
              "    </tr>\n",
              "    <tr>\n",
              "      <th>City</th>\n",
              "      <td>15</td>\n",
              "    </tr>\n",
              "    <tr>\n",
              "      <th>Industry</th>\n",
              "      <td>0</td>\n",
              "    </tr>\n",
              "    <tr>\n",
              "      <th>Select Investors</th>\n",
              "      <td>1</td>\n",
              "    </tr>\n",
              "  </tbody>\n",
              "</table>\n",
              "</div><br><label><b>dtype:</b> int64</label>"
            ]
          },
          "metadata": {},
          "execution_count": 7
        }
      ]
    },
    {
      "cell_type": "code",
      "source": [
        "# visao gráfica\n",
        "plt.figure( figsize=(10,4) )\n",
        "plt.title('Analisando os campos nulos')\n",
        "sns.heatmap( df.isnull(), cbar=False )"
      ],
      "metadata": {
        "colab": {
          "base_uri": "https://localhost:8080/",
          "height": 408
        },
        "id": "Z0xFsqf290zS",
        "outputId": "0ad09144-b620-4d07-83a3-412b9e45dc5a"
      },
      "execution_count": null,
      "outputs": [
        {
          "output_type": "execute_result",
          "data": {
            "text/plain": [
              "<Axes: title={'center': 'Analisando os campos nulos'}>"
            ]
          },
          "metadata": {},
          "execution_count": 8
        },
        {
          "output_type": "display_data",
          "data": {
            "text/plain": [
              "<Figure size 1000x400 with 1 Axes>"
            ],
            "image/png": "[encoded data removed]"
          },
          "metadata": {}
        }
      ]
    },
    {
      "cell_type": "markdown",
      "source": [
        "## Avaliando campos unicos"
      ],
      "metadata": {
        "id": "4w_9rA9N_ufD"
      }
    },
    {
      "cell_type": "code",
      "source": [
        "df.nunique()"
      ],
      "metadata": {
        "colab": {
          "base_uri": "https://localhost:8080/",
          "height": 335
        },
        "id": "fMSpNeFn_GOu",
        "outputId": "66e1e2a8-e703-4c6c-95a9-892a25b284c4"
      },
      "execution_count": null,
      "outputs": [
        {
          "output_type": "execute_result",
          "data": {
            "text/plain": [
              "Unnamed: 0          936\n",
              "Company             935\n",
              "Valuation ($B)      192\n",
              "Date Joined         589\n",
              "Country              47\n",
              "City                239\n",
              "Industry             17\n",
              "Select Investors    920\n",
              "dtype: int64"
            ],
            "text/html": [
              "<div>\n",
              "<style scoped>\n",
              "    .dataframe tbody tr th:only-of-type {\n",
              "        vertical-align: middle;\n",
              "    }\n",
              "\n",
              "    .dataframe tbody tr th {\n",
              "        vertical-align: top;\n",
              "    }\n",
              "\n",
              "    .dataframe thead th {\n",
              "        text-align: right;\n",
              "    }\n",
              "</style>\n",
              "<table border=\"1\" class=\"dataframe\">\n",
              "  <thead>\n",
              "    <tr style=\"text-align: right;\">\n",
              "      <th></th>\n",
              "      <th>0</th>\n",
              "    </tr>\n",
              "  </thead>\n",
              "  <tbody>\n",
              "    <tr>\n",
              "      <th>Unnamed: 0</th>\n",
              "      <td>936</td>\n",
              "    </tr>\n",
              "    <tr>\n",
              "      <th>Company</th>\n",
              "      <td>935</td>\n",
              "    </tr>\n",
              "    <tr>\n",
              "      <th>Valuation ($B)</th>\n",
              "      <td>192</td>\n",
              "    </tr>\n",
              "    <tr>\n",
              "      <th>Date Joined</th>\n",
              "      <td>589</td>\n",
              "    </tr>\n",
              "    <tr>\n",
              "      <th>Country</th>\n",
              "      <td>47</td>\n",
              "    </tr>\n",
              "    <tr>\n",
              "      <th>City</th>\n",
              "      <td>239</td>\n",
              "    </tr>\n",
              "    <tr>\n",
              "      <th>Industry</th>\n",
              "      <td>17</td>\n",
              "    </tr>\n",
              "    <tr>\n",
              "      <th>Select Investors</th>\n",
              "      <td>920</td>\n",
              "    </tr>\n",
              "  </tbody>\n",
              "</table>\n",
              "</div><br><label><b>dtype:</b> int64</label>"
            ]
          },
          "metadata": {},
          "execution_count": 9
        }
      ]
    },
    {
      "cell_type": "markdown",
      "source": [
        "## Explorando o campo Industry"
      ],
      "metadata": {
        "id": "ZXn1eHCDCzbO"
      }
    },
    {
      "cell_type": "code",
      "source": [
        "df['Industry'].unique()"
      ],
      "metadata": {
        "colab": {
          "base_uri": "https://localhost:8080/"
        },
        "id": "8ujECC86_Ixl",
        "outputId": "0d6b072b-6197-4fb3-eb40-3135578bac78"
      },
      "execution_count": null,
      "outputs": [
        {
          "output_type": "execute_result",
          "data": {
            "text/plain": [
              "array(['Fintech', 'Travel', 'Internet software & services', 'Other',\n",
              "       'Cybersecurity', 'E-commerce & direct-to-consumer',\n",
              "       'Mobile & telecommunications', 'Auto & transportation', 'Health',\n",
              "       'Artificial intelligence', 'Hardware', 'Consumer & retail',\n",
              "       'Data management & analytics',\n",
              "       'Supply chain, logistics, & delivery', 'Edtech', 'Finttech',\n",
              "       'Artificial Intelligence'], dtype=object)"
            ]
          },
          "metadata": {},
          "execution_count": 10
        }
      ]
    },
    {
      "cell_type": "code",
      "source": [
        "# respondendo qual é o setor mais comum\n",
        "df['Industry'].value_counts()"
      ],
      "metadata": {
        "colab": {
          "base_uri": "https://localhost:8080/",
          "height": 649
        },
        "id": "KpWBXALw_JE-",
        "outputId": "a3a5c5be-b55a-473e-f1f3-6abf7d7a950e"
      },
      "execution_count": null,
      "outputs": [
        {
          "output_type": "execute_result",
          "data": {
            "text/plain": [
              "Industry\n",
              "Fintech                                190\n",
              "Internet software & services           167\n",
              "E-commerce & direct-to-consumer        102\n",
              "Artificial intelligence                 69\n",
              "Health                                  63\n",
              "Other                                   51\n",
              "Supply chain, logistics, & delivery     51\n",
              "Cybersecurity                           41\n",
              "Mobile & telecommunications             37\n",
              "Data management & analytics             36\n",
              "Hardware                                32\n",
              "Auto & transportation                   29\n",
              "Edtech                                  27\n",
              "Consumer & retail                       23\n",
              "Travel                                  13\n",
              "Artificial Intelligence                  4\n",
              "Finttech                                 1\n",
              "Name: count, dtype: int64"
            ],
            "text/html": [
              "<div>\n",
              "<style scoped>\n",
              "    .dataframe tbody tr th:only-of-type {\n",
              "        vertical-align: middle;\n",
              "    }\n",
              "\n",
              "    .dataframe tbody tr th {\n",
              "        vertical-align: top;\n",
              "    }\n",
              "\n",
              "    .dataframe thead th {\n",
              "        text-align: right;\n",
              "    }\n",
              "</style>\n",
              "<table border=\"1\" class=\"dataframe\">\n",
              "  <thead>\n",
              "    <tr style=\"text-align: right;\">\n",
              "      <th></th>\n",
              "      <th>count</th>\n",
              "    </tr>\n",
              "    <tr>\n",
              "      <th>Industry</th>\n",
              "      <th></th>\n",
              "    </tr>\n",
              "  </thead>\n",
              "  <tbody>\n",
              "    <tr>\n",
              "      <th>Fintech</th>\n",
              "      <td>190</td>\n",
              "    </tr>\n",
              "    <tr>\n",
              "      <th>Internet software &amp; services</th>\n",
              "      <td>167</td>\n",
              "    </tr>\n",
              "    <tr>\n",
              "      <th>E-commerce &amp; direct-to-consumer</th>\n",
              "      <td>102</td>\n",
              "    </tr>\n",
              "    <tr>\n",
              "      <th>Artificial intelligence</th>\n",
              "      <td>69</td>\n",
              "    </tr>\n",
              "    <tr>\n",
              "      <th>Health</th>\n",
              "      <td>63</td>\n",
              "    </tr>\n",
              "    <tr>\n",
              "      <th>Other</th>\n",
              "      <td>51</td>\n",
              "    </tr>\n",
              "    <tr>\n",
              "      <th>Supply chain, logistics, &amp; delivery</th>\n",
              "      <td>51</td>\n",
              "    </tr>\n",
              "    <tr>\n",
              "      <th>Cybersecurity</th>\n",
              "      <td>41</td>\n",
              "    </tr>\n",
              "    <tr>\n",
              "      <th>Mobile &amp; telecommunications</th>\n",
              "      <td>37</td>\n",
              "    </tr>\n",
              "    <tr>\n",
              "      <th>Data management &amp; analytics</th>\n",
              "      <td>36</td>\n",
              "    </tr>\n",
              "    <tr>\n",
              "      <th>Hardware</th>\n",
              "      <td>32</td>\n",
              "    </tr>\n",
              "    <tr>\n",
              "      <th>Auto &amp; transportation</th>\n",
              "      <td>29</td>\n",
              "    </tr>\n",
              "    <tr>\n",
              "      <th>Edtech</th>\n",
              "      <td>27</td>\n",
              "    </tr>\n",
              "    <tr>\n",
              "      <th>Consumer &amp; retail</th>\n",
              "      <td>23</td>\n",
              "    </tr>\n",
              "    <tr>\n",
              "      <th>Travel</th>\n",
              "      <td>13</td>\n",
              "    </tr>\n",
              "    <tr>\n",
              "      <th>Artificial Intelligence</th>\n",
              "      <td>4</td>\n",
              "    </tr>\n",
              "    <tr>\n",
              "      <th>Finttech</th>\n",
              "      <td>1</td>\n",
              "    </tr>\n",
              "  </tbody>\n",
              "</table>\n",
              "</div><br><label><b>dtype:</b> int64</label>"
            ]
          },
          "metadata": {},
          "execution_count": 11
        }
      ]
    },
    {
      "cell_type": "code",
      "source": [
        "# respondendo qual é o setor mais comum em porcentagem\n",
        "df['Industry'].value_counts( normalize = True)"
      ],
      "metadata": {
        "colab": {
          "base_uri": "https://localhost:8080/",
          "height": 649
        },
        "id": "J6ADVJ_m_Gx0",
        "outputId": "c06cba6c-6416-42ec-906a-de967ba220f4"
      },
      "execution_count": null,
      "outputs": [
        {
          "output_type": "execute_result",
          "data": {
            "text/plain": [
              "Industry\n",
              "Fintech                                0.202991\n",
              "Internet software & services           0.178419\n",
              "E-commerce & direct-to-consumer        0.108974\n",
              "Artificial intelligence                0.073718\n",
              "Health                                 0.067308\n",
              "Other                                  0.054487\n",
              "Supply chain, logistics, & delivery    0.054487\n",
              "Cybersecurity                          0.043803\n",
              "Mobile & telecommunications            0.039530\n",
              "Data management & analytics            0.038462\n",
              "Hardware                               0.034188\n",
              "Auto & transportation                  0.030983\n",
              "Edtech                                 0.028846\n",
              "Consumer & retail                      0.024573\n",
              "Travel                                 0.013889\n",
              "Artificial Intelligence                0.004274\n",
              "Finttech                               0.001068\n",
              "Name: proportion, dtype: float64"
            ],
            "text/html": [
              "<div>\n",
              "<style scoped>\n",
              "    .dataframe tbody tr th:only-of-type {\n",
              "        vertical-align: middle;\n",
              "    }\n",
              "\n",
              "    .dataframe tbody tr th {\n",
              "        vertical-align: top;\n",
              "    }\n",
              "\n",
              "    .dataframe thead th {\n",
              "        text-align: right;\n",
              "    }\n",
              "</style>\n",
              "<table border=\"1\" class=\"dataframe\">\n",
              "  <thead>\n",
              "    <tr style=\"text-align: right;\">\n",
              "      <th></th>\n",
              "      <th>proportion</th>\n",
              "    </tr>\n",
              "    <tr>\n",
              "      <th>Industry</th>\n",
              "      <th></th>\n",
              "    </tr>\n",
              "  </thead>\n",
              "  <tbody>\n",
              "    <tr>\n",
              "      <th>Fintech</th>\n",
              "      <td>0.202991</td>\n",
              "    </tr>\n",
              "    <tr>\n",
              "      <th>Internet software &amp; services</th>\n",
              "      <td>0.178419</td>\n",
              "    </tr>\n",
              "    <tr>\n",
              "      <th>E-commerce &amp; direct-to-consumer</th>\n",
              "      <td>0.108974</td>\n",
              "    </tr>\n",
              "    <tr>\n",
              "      <th>Artificial intelligence</th>\n",
              "      <td>0.073718</td>\n",
              "    </tr>\n",
              "    <tr>\n",
              "      <th>Health</th>\n",
              "      <td>0.067308</td>\n",
              "    </tr>\n",
              "    <tr>\n",
              "      <th>Other</th>\n",
              "      <td>0.054487</td>\n",
              "    </tr>\n",
              "    <tr>\n",
              "      <th>Supply chain, logistics, &amp; delivery</th>\n",
              "      <td>0.054487</td>\n",
              "    </tr>\n",
              "    <tr>\n",
              "      <th>Cybersecurity</th>\n",
              "      <td>0.043803</td>\n",
              "    </tr>\n",
              "    <tr>\n",
              "      <th>Mobile &amp; telecommunications</th>\n",
              "      <td>0.039530</td>\n",
              "    </tr>\n",
              "    <tr>\n",
              "      <th>Data management &amp; analytics</th>\n",
              "      <td>0.038462</td>\n",
              "    </tr>\n",
              "    <tr>\n",
              "      <th>Hardware</th>\n",
              "      <td>0.034188</td>\n",
              "    </tr>\n",
              "    <tr>\n",
              "      <th>Auto &amp; transportation</th>\n",
              "      <td>0.030983</td>\n",
              "    </tr>\n",
              "    <tr>\n",
              "      <th>Edtech</th>\n",
              "      <td>0.028846</td>\n",
              "    </tr>\n",
              "    <tr>\n",
              "      <th>Consumer &amp; retail</th>\n",
              "      <td>0.024573</td>\n",
              "    </tr>\n",
              "    <tr>\n",
              "      <th>Travel</th>\n",
              "      <td>0.013889</td>\n",
              "    </tr>\n",
              "    <tr>\n",
              "      <th>Artificial Intelligence</th>\n",
              "      <td>0.004274</td>\n",
              "    </tr>\n",
              "    <tr>\n",
              "      <th>Finttech</th>\n",
              "      <td>0.001068</td>\n",
              "    </tr>\n",
              "  </tbody>\n",
              "</table>\n",
              "</div><br><label><b>dtype:</b> float64</label>"
            ]
          },
          "metadata": {},
          "execution_count": 12
        }
      ]
    },
    {
      "cell_type": "code",
      "source": [],
      "metadata": {
        "id": "Rj4_wsRPCpvL"
      },
      "execution_count": null,
      "outputs": []
    },
    {
      "cell_type": "code",
      "source": [],
      "metadata": {
        "id": "h6IEGmZOCp1S"
      },
      "execution_count": null,
      "outputs": []
    },
    {
      "cell_type": "code",
      "source": [],
      "metadata": {
        "id": "Mz_Fhq0LCp64"
      },
      "execution_count": null,
      "outputs": []
    },
    {
      "cell_type": "code",
      "source": [],
      "metadata": {
        "id": "AlBTI3r3CqAl"
      },
      "execution_count": null,
      "outputs": []
    },
    {
      "cell_type": "code",
      "source": [],
      "metadata": {
        "id": "9azXcOF0CqFo"
      },
      "execution_count": null,
      "outputs": []
    },
    {
      "cell_type": "code",
      "source": [],
      "metadata": {
        "id": "8WUmQxxqCqKg"
      },
      "execution_count": null,
      "outputs": []
    }
  ]
}