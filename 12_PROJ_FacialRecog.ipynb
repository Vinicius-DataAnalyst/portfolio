{
  "nbformat": 4,
  "nbformat_minor": 0,
  "metadata": {
    "colab": {
      "provenance": [],
      "gpuType": "T4",
      "include_colab_link": true
    },
    "kernelspec": {
      "name": "python3",
      "display_name": "Python 3"
    },
    "language_info": {
      "name": "python"
    },
    "accelerator": "GPU",
    "widgets": {
      "application/vnd.jupyter.widget-state+json": {
        "1a05dc04fa974f7b89f923e52bb42d02": {
          "model_module": "@jupyter-widgets/controls",
          "model_name": "HBoxModel",
          "model_module_version": "1.5.0",
          "state": {
            "_dom_classes": [],
            "_model_module": "@jupyter-widgets/controls",
            "_model_module_version": "1.5.0",
            "_model_name": "HBoxModel",
            "_view_count": null,
            "_view_module": "@jupyter-widgets/controls",
            "_view_module_version": "1.5.0",
            "_view_name": "HBoxView",
            "box_style": "",
            "children": [
              "IPY_MODEL_41defab8aad74ba69cdb7ed2cfca4ed5",
              "IPY_MODEL_80e5f8233f34416bbc5ab12513f5361d",
              "IPY_MODEL_2cc53ffcef7b496a88ac0a9e3bbb1f27"
            ],
            "layout": "IPY_MODEL_ef669206ae304799a30108bd15afc6a4"
          }
        },
        "41defab8aad74ba69cdb7ed2cfca4ed5": {
          "model_module": "@jupyter-widgets/controls",
          "model_name": "HTMLModel",
          "model_module_version": "1.5.0",
          "state": {
            "_dom_classes": [],
            "_model_module": "@jupyter-widgets/controls",
            "_model_module_version": "1.5.0",
            "_model_name": "HTMLModel",
            "_view_count": null,
            "_view_module": "@jupyter-widgets/controls",
            "_view_module_version": "1.5.0",
            "_view_name": "HTMLView",
            "description": "",
            "description_tooltip": null,
            "layout": "IPY_MODEL_752a7a29497047b29cd25eb604545e09",
            "placeholder": "​",
            "style": "IPY_MODEL_7d5bd32d99c241cb969378f793a51176",
            "value": "100%"
          }
        },
        "80e5f8233f34416bbc5ab12513f5361d": {
          "model_module": "@jupyter-widgets/controls",
          "model_name": "FloatProgressModel",
          "model_module_version": "1.5.0",
          "state": {
            "_dom_classes": [],
            "_model_module": "@jupyter-widgets/controls",
            "_model_module_version": "1.5.0",
            "_model_name": "FloatProgressModel",
            "_view_count": null,
            "_view_module": "@jupyter-widgets/controls",
            "_view_module_version": "1.5.0",
            "_view_name": "ProgressView",
            "bar_style": "success",
            "description": "",
            "description_tooltip": null,
            "layout": "IPY_MODEL_da7e1fac017c4f169d8d2b48341bdd98",
            "max": 111898327,
            "min": 0,
            "orientation": "horizontal",
            "style": "IPY_MODEL_9ef11fd4f5684e94a2809aadc5e8aab0",
            "value": 111898327
          }
        },
        "2cc53ffcef7b496a88ac0a9e3bbb1f27": {
          "model_module": "@jupyter-widgets/controls",
          "model_name": "HTMLModel",
          "model_module_version": "1.5.0",
          "state": {
            "_dom_classes": [],
            "_model_module": "@jupyter-widgets/controls",
            "_model_module_version": "1.5.0",
            "_model_name": "HTMLModel",
            "_view_count": null,
            "_view_module": "@jupyter-widgets/controls",
            "_view_module_version": "1.5.0",
            "_view_name": "HTMLView",
            "description": "",
            "description_tooltip": null,
            "layout": "IPY_MODEL_00a231b48b504e988d638c5feb41332b",
            "placeholder": "​",
            "style": "IPY_MODEL_6707dcf811954dca8c3c1696a822d4dd",
            "value": " 107M/107M [00:00&lt;00:00, 275MB/s]"
          }
        },
        "ef669206ae304799a30108bd15afc6a4": {
          "model_module": "@jupyter-widgets/base",
          "model_name": "LayoutModel",
          "model_module_version": "1.2.0",
          "state": {
            "_model_module": "@jupyter-widgets/base",
            "_model_module_version": "1.2.0",
            "_model_name": "LayoutModel",
            "_view_count": null,
            "_view_module": "@jupyter-widgets/base",
            "_view_module_version": "1.2.0",
            "_view_name": "LayoutView",
            "align_content": null,
            "align_items": null,
            "align_self": null,
            "border": null,
            "bottom": null,
            "display": null,
            "flex": null,
            "flex_flow": null,
            "grid_area": null,
            "grid_auto_columns": null,
            "grid_auto_flow": null,
            "grid_auto_rows": null,
            "grid_column": null,
            "grid_gap": null,
            "grid_row": null,
            "grid_template_areas": null,
            "grid_template_columns": null,
            "grid_template_rows": null,
            "height": null,
            "justify_content": null,
            "justify_items": null,
            "left": null,
            "margin": null,
            "max_height": null,
            "max_width": null,
            "min_height": null,
            "min_width": null,
            "object_fit": null,
            "object_position": null,
            "order": null,
            "overflow": null,
            "overflow_x": null,
            "overflow_y": null,
            "padding": null,
            "right": null,
            "top": null,
            "visibility": null,
            "width": null
          }
        },
        "752a7a29497047b29cd25eb604545e09": {
          "model_module": "@jupyter-widgets/base",
          "model_name": "LayoutModel",
          "model_module_version": "1.2.0",
          "state": {
            "_model_module": "@jupyter-widgets/base",
            "_model_module_version": "1.2.0",
            "_model_name": "LayoutModel",
            "_view_count": null,
            "_view_module": "@jupyter-widgets/base",
            "_view_module_version": "1.2.0",
            "_view_name": "LayoutView",
            "align_content": null,
            "align_items": null,
            "align_self": null,
            "border": null,
            "bottom": null,
            "display": null,
            "flex": null,
            "flex_flow": null,
            "grid_area": null,
            "grid_auto_columns": null,
            "grid_auto_flow": null,
            "grid_auto_rows": null,
            "grid_column": null,
            "grid_gap": null,
            "grid_row": null,
            "grid_template_areas": null,
            "grid_template_columns": null,
            "grid_template_rows": null,
            "height": null,
            "justify_content": null,
            "justify_items": null,
            "left": null,
            "margin": null,
            "max_height": null,
            "max_width": null,
            "min_height": null,
            "min_width": null,
            "object_fit": null,
            "object_position": null,
            "order": null,
            "overflow": null,
            "overflow_x": null,
            "overflow_y": null,
            "padding": null,
            "right": null,
            "top": null,
            "visibility": null,
            "width": null
          }
        },
        "7d5bd32d99c241cb969378f793a51176": {
          "model_module": "@jupyter-widgets/controls",
          "model_name": "DescriptionStyleModel",
          "model_module_version": "1.5.0",
          "state": {
            "_model_module": "@jupyter-widgets/controls",
            "_model_module_version": "1.5.0",
            "_model_name": "DescriptionStyleModel",
            "_view_count": null,
            "_view_module": "@jupyter-widgets/base",
            "_view_module_version": "1.2.0",
            "_view_name": "StyleView",
            "description_width": ""
          }
        },
        "da7e1fac017c4f169d8d2b48341bdd98": {
          "model_module": "@jupyter-widgets/base",
          "model_name": "LayoutModel",
          "model_module_version": "1.2.0",
          "state": {
            "_model_module": "@jupyter-widgets/base",
            "_model_module_version": "1.2.0",
            "_model_name": "LayoutModel",
            "_view_count": null,
            "_view_module": "@jupyter-widgets/base",
            "_view_module_version": "1.2.0",
            "_view_name": "LayoutView",
            "align_content": null,
            "align_items": null,
            "align_self": null,
            "border": null,
            "bottom": null,
            "display": null,
            "flex": null,
            "flex_flow": null,
            "grid_area": null,
            "grid_auto_columns": null,
            "grid_auto_flow": null,
            "grid_auto_rows": null,
            "grid_column": null,
            "grid_gap": null,
            "grid_row": null,
            "grid_template_areas": null,
            "grid_template_columns": null,
            "grid_template_rows": null,
            "height": null,
            "justify_content": null,
            "justify_items": null,
            "left": null,
            "margin": null,
            "max_height": null,
            "max_width": null,
            "min_height": null,
            "min_width": null,
            "object_fit": null,
            "object_position": null,
            "order": null,
            "overflow": null,
            "overflow_x": null,
            "overflow_y": null,
            "padding": null,
            "right": null,
            "top": null,
            "visibility": null,
            "width": null
          }
        },
        "9ef11fd4f5684e94a2809aadc5e8aab0": {
          "model_module": "@jupyter-widgets/controls",
          "model_name": "ProgressStyleModel",
          "model_module_version": "1.5.0",
          "state": {
            "_model_module": "@jupyter-widgets/controls",
            "_model_module_version": "1.5.0",
            "_model_name": "ProgressStyleModel",
            "_view_count": null,
            "_view_module": "@jupyter-widgets/base",
            "_view_module_version": "1.2.0",
            "_view_name": "StyleView",
            "bar_color": null,
            "description_width": ""
          }
        },
        "00a231b48b504e988d638c5feb41332b": {
          "model_module": "@jupyter-widgets/base",
          "model_name": "LayoutModel",
          "model_module_version": "1.2.0",
          "state": {
            "_model_module": "@jupyter-widgets/base",
            "_model_module_version": "1.2.0",
            "_model_name": "LayoutModel",
            "_view_count": null,
            "_view_module": "@jupyter-widgets/base",
            "_view_module_version": "1.2.0",
            "_view_name": "LayoutView",
            "align_content": null,
            "align_items": null,
            "align_self": null,
            "border": null,
            "bottom": null,
            "display": null,
            "flex": null,
            "flex_flow": null,
            "grid_area": null,
            "grid_auto_columns": null,
            "grid_auto_flow": null,
            "grid_auto_rows": null,
            "grid_column": null,
            "grid_gap": null,
            "grid_row": null,
            "grid_template_areas": null,
            "grid_template_columns": null,
            "grid_template_rows": null,
            "height": null,
            "justify_content": null,
            "justify_items": null,
            "left": null,
            "margin": null,
            "max_height": null,
            "max_width": null,
            "min_height": null,
            "min_width": null,
            "object_fit": null,
            "object_position": null,
            "order": null,
            "overflow": null,
            "overflow_x": null,
            "overflow_y": null,
            "padding": null,
            "right": null,
            "top": null,
            "visibility": null,
            "width": null
          }
        },
        "6707dcf811954dca8c3c1696a822d4dd": {
          "model_module": "@jupyter-widgets/controls",
          "model_name": "DescriptionStyleModel",
          "model_module_version": "1.5.0",
          "state": {
            "_model_module": "@jupyter-widgets/controls",
            "_model_module_version": "1.5.0",
            "_model_name": "DescriptionStyleModel",
            "_view_count": null,
            "_view_module": "@jupyter-widgets/base",
            "_view_module_version": "1.2.0",
            "_view_name": "StyleView",
            "description_width": ""
          }
        }
      }
    }
  },
  "cells": [
    {
      "cell_type": "markdown",
      "metadata": {
        "id": "view-in-github",
        "colab_type": "text"
      },
      "source": [
        "<a href=\"https://colab.research.google.com/github/Vinicius-DataAnalyst/portfolio/blob/main/12_PROJ_FacialRecog.ipynb\" target=\"_parent\"><img src=\"https://colab.research.google.com/assets/colab-badge.svg\" alt=\"Open In Colab\"/></a>"
      ]
    },
    {
      "cell_type": "code",
      "source": [
        "from google.colab import drive\n",
        "drive.mount('/content/drive')"
      ],
      "metadata": {
        "colab": {
          "base_uri": "https://localhost:8080/"
        },
        "id": "1WxD1GSWsDiM",
        "outputId": "864d75d8-e826-487b-9b8a-19c40f615c0a"
      },
      "execution_count": 1,
      "outputs": [
        {
          "output_type": "stream",
          "name": "stdout",
          "text": [
            "Drive already mounted at /content/drive; to attempt to forcibly remount, call drive.mount(\"/content/drive\", force_remount=True).\n"
          ]
        }
      ]
    },
    {
      "cell_type": "code",
      "source": [
        "!pip install --upgrade --no-deps torch torchvision facenet-pytorch --quiet\n",
        "!pip install opencv-python"
      ],
      "metadata": {
        "colab": {
          "base_uri": "https://localhost:8080/"
        },
        "id": "irytrx9DiJzg",
        "outputId": "05ba7011-1915-4e60-ae14-8dbf3c2ccf03"
      },
      "execution_count": 2,
      "outputs": [
        {
          "output_type": "stream",
          "name": "stdout",
          "text": [
            "Requirement already satisfied: opencv-python in /usr/local/lib/python3.12/dist-packages (4.12.0.88)\n",
            "Requirement already satisfied: numpy<2.3.0,>=2 in /usr/local/lib/python3.12/dist-packages (from opencv-python) (2.0.2)\n"
          ]
        }
      ]
    },
    {
      "cell_type": "code",
      "execution_count": null,
      "metadata": {
        "id": "wsAddSsEgn47",
        "collapsed": true
      },
      "outputs": [],
      "source": [
        "import cv2\n",
        "from google.colab.patches import cv2_imshow\n",
        "\n",
        "# Carrega um classificador pré-treinado para rostos\n",
        "face_cascade = cv2.CascadeClassifier(cv2.data.haarcascades + 'haarcascade_frontalface_default.xml')\n",
        "\n",
        "# Carrega uma imagem\n",
        "uploaded_img_path = '/content/drive/MyDrive/01.FIAP_Graduação/2025/FASE06_trabalho/img_rosto.jpg'\n",
        "img = cv2.imread(uploaded_img_path)\n",
        "gray = cv2.cvtColor(img, cv2.COLOR_BGR2GRAY)\n",
        "\n",
        "# Detecta rostos\n",
        "faces = face_cascade.detectMultiScale(gray, 1.3, 5)\n",
        "\n",
        "# Desenha retângulos nos rostos\n",
        "for (x, y, w, h) in faces:\n",
        "    # Increased thickness to 5 and changed color to green (0, 255, 0)\n",
        "    cv2.rectangle(img, (x, y), (x+w, y+h), (0, 255, 0), 5)\n",
        "\n",
        "# Mostra o resultado - Redimensiona a imagem antes de mostrar\n",
        "resized_img = cv2.resize(img, (int(img.shape[1] * 0.1), int(img.shape[0] * 0.1))) # Reduz para 10%\n",
        "cv2_imshow(resized_img)\n",
        "cv2.waitKey(0)\n",
        "cv2.destroyAllWindows()"
      ]
    },
    {
      "cell_type": "code",
      "source": [
        "import os\n",
        "import numpy as np\n",
        "from PIL import Image\n",
        "import torch\n",
        "from facenet_pytorch import MTCNN, InceptionResnetV1\n",
        "from sklearn.metrics.pairwise import cosine_similarity\n",
        "\n",
        "# Caminhos\n",
        "train_dir = '/content/drive/MyDrive/01.FIAP_Graduação/2025/FASE06_trabalho/Atividade1-Reconhecimento Facial/Atividade1-Reconhecimento Facial/train'\n",
        "test_dir = '/content/drive/MyDrive/01.FIAP_Graduação/2025/FASE06_trabalho/Atividade1-Reconhecimento Facial/Atividade1-Reconhecimento Facial/test'\n",
        "\n",
        "# GPU se disponível\n",
        "device = torch.device('cuda' if torch.cuda.is_available() else 'cpu')\n",
        "print(\"Usando device:\", device)\n",
        "\n",
        "# Modelos\n",
        "mtcnn = MTCNN(image_size=160, margin=0, keep_all=False, device=device)\n",
        "resnet = InceptionResnetV1(pretrained='vggface2').eval().to(device)\n",
        "\n",
        "def gerar_embedding(img_path):\n",
        "    try:\n",
        "        img = Image.open(img_path).convert('RGB')\n",
        "    except:\n",
        "        print(f\"Erro ao abrir {img_path}\")\n",
        "        return None\n",
        "    face = mtcnn(img)\n",
        "    if face is None:\n",
        "        print(f\"Nenhum rosto detectado em {img_path}\")\n",
        "        return None\n",
        "    face = face.unsqueeze(0).to(device)\n",
        "    with torch.no_grad():\n",
        "        emb = resnet(face)\n",
        "    return emb.cpu().numpy().flatten()\n",
        "\n",
        "# Gera média dos embeddings de treino\n",
        "print(\"🔹 Gerando embeddings médios de treino...\")\n",
        "embeddings_treino = {}\n",
        "for pessoa in os.listdir(train_dir):\n",
        "    pasta = os.path.join(train_dir, pessoa)\n",
        "    if not os.path.isdir(pasta):\n",
        "        continue\n",
        "    embs = []\n",
        "    for img_name in os.listdir(pasta):\n",
        "        img_path = os.path.join(pasta, img_name)\n",
        "        emb = gerar_embedding(img_path)\n",
        "        if emb is not None:\n",
        "            embs.append(emb)\n",
        "    if embs:\n",
        "        embeddings_treino[pessoa] = np.mean(embs, axis=0)\n",
        "        print(f\"{pessoa}: {len(embs)} imagens processadas\")\n",
        "\n",
        "# Lê as imagens na pasta Test\n",
        "print(\"\\n🔹 Testando imagens individuais...\")\n",
        "for img_name in os.listdir(test_dir):\n",
        "    img_path = os.path.join(test_dir, img_name)\n",
        "    if not os.path.isfile(img_path):\n",
        "        continue\n",
        "\n",
        "    emb_teste = gerar_embedding(img_path)\n",
        "    if emb_teste is None:\n",
        "        continue\n",
        "\n",
        "    # Calcula similaridade de cosseno com todos os embeddings médios\n",
        "    similaridades = {\n",
        "        nome: cosine_similarity([emb_teste], [emb_ref])[0][0]\n",
        "        for nome, emb_ref in embeddings_treino.items()\n",
        "    }\n",
        "\n",
        "    reconhecido = max(similaridades, key=similaridades.get)\n",
        "    confianca = similaridades[reconhecido]\n",
        "\n",
        "    print(f\"Arquivo: {img_name:20s} | Previsto: {reconhecido:12s} | Similaridade: {confianca:.3f}\")\n"
      ],
      "metadata": {
        "colab": {
          "base_uri": "https://localhost:8080/",
          "height": 292,
          "referenced_widgets": [
            "1a05dc04fa974f7b89f923e52bb42d02",
            "41defab8aad74ba69cdb7ed2cfca4ed5",
            "80e5f8233f34416bbc5ab12513f5361d",
            "2cc53ffcef7b496a88ac0a9e3bbb1f27",
            "ef669206ae304799a30108bd15afc6a4",
            "752a7a29497047b29cd25eb604545e09",
            "7d5bd32d99c241cb969378f793a51176",
            "da7e1fac017c4f169d8d2b48341bdd98",
            "9ef11fd4f5684e94a2809aadc5e8aab0",
            "00a231b48b504e988d638c5feb41332b",
            "6707dcf811954dca8c3c1696a822d4dd"
          ]
        },
        "id": "LDays3lWlzI2",
        "outputId": "2fe2ec2b-2c3c-43ba-fc95-60270b4cfd82"
      },
      "execution_count": 4,
      "outputs": [
        {
          "output_type": "stream",
          "name": "stdout",
          "text": [
            "Usando device: cuda\n"
          ]
        },
        {
          "output_type": "display_data",
          "data": {
            "text/plain": [
              "  0%|          | 0.00/107M [00:00<?, ?B/s]"
            ],
            "application/vnd.jupyter.widget-view+json": {
              "version_major": 2,
              "version_minor": 0,
              "model_id": "1a05dc04fa974f7b89f923e52bb42d02"
            }
          },
          "metadata": {}
        },
        {
          "output_type": "stream",
          "name": "stdout",
          "text": [
            "🔹 Gerando embeddings médios de treino...\n",
            "cr7: 4 imagens processadas\n",
            "kaka: 4 imagens processadas\n",
            "messi: 4 imagens processadas\n",
            "neymar: 4 imagens processadas\n",
            "ronaldinho: 4 imagens processadas\n",
            "\n",
            "🔹 Testando imagens individuais...\n",
            "Arquivo: Cr75.jpeg            | Previsto: cr7          | Similaridade: 0.835\n",
            "Arquivo: kaka5.jpeg           | Previsto: kaka         | Similaridade: 0.728\n",
            "Arquivo: Messi5.jpeg          | Previsto: messi        | Similaridade: 0.804\n",
            "Arquivo: Neymar5.jpeg         | Previsto: neymar       | Similaridade: 0.791\n",
            "Arquivo: Ronaldinho5.jpeg     | Previsto: ronaldinho   | Similaridade: 0.799\n"
          ]
        }
      ]
    },
    {
      "cell_type": "code",
      "source": [],
      "metadata": {
        "id": "7caSw-lBrd-g"
      },
      "execution_count": 4,
      "outputs": []
    }
  ]
}