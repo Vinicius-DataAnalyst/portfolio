{
  "nbformat": 4,
  "nbformat_minor": 0,
  "metadata": {
    "colab": {
      "provenance": [],
      "authorship_tag": "ABX9TyN3oywQtyMgtsc/RbpA9ojD",
      "include_colab_link": true
    },
    "kernelspec": {
      "name": "python3",
      "display_name": "Python 3"
    },
    "language_info": {
      "name": "python"
    }
  },
  "cells": [
    {
      "cell_type": "markdown",
      "metadata": {
        "id": "view-in-github",
        "colab_type": "text"
      },
      "source": [
        "<a href=\"https://colab.research.google.com/github/Vinicius-DataAnalyst/portfolio/blob/main/08_PROJ_AnaliseMultivariada.ipynb\" target=\"_parent\"><img src=\"https://colab.research.google.com/assets/colab-badge.svg\" alt=\"Open In Colab\"/></a>"
      ]
    },
    {
      "cell_type": "code",
      "execution_count": 2,
      "metadata": {
        "colab": {
          "base_uri": "https://localhost:8080/",
          "height": 449
        },
        "id": "DK5C5TYREaOM",
        "outputId": "aa6e553a-5c52-4ba5-c31b-6299a6f2a4b4"
      },
      "outputs": [
        {
          "output_type": "execute_result",
          "data": {
            "text/plain": [
              "''"
            ],
            "application/vnd.google.colaboratory.intrinsic+json": {
              "type": "string"
            }
          },
          "metadata": {},
          "execution_count": 2
        },
        {
          "output_type": "display_data",
          "data": {
            "text/plain": [
              "<Figure size 640x480 with 1 Axes>"
            ],
            "image/png": "[encoded data removed]"
          },
          "metadata": {}
        }
      ],
      "source": [
        "import pandas as pd\n",
        "import numpy as np\n",
        "df = pd.read_csv(\"https://raw.githubusercontent.com/diogenesjusto/FIAP-On-Line-Graduation/main/datasets/%20mtcars.csv\")\n",
        "df['mpg'].hist()\n",
        ";"
      ]
    },
    {
      "cell_type": "markdown",
      "source": [
        "nota-se que os valores de 'milhas por galçao' está distribuido com centro no valor de 10. Porém com representantes em 30 também."
      ],
      "metadata": {
        "id": "iBQlDNZ3E1md"
      }
    },
    {
      "cell_type": "code",
      "source": [],
      "metadata": {
        "id": "RHEiellEEn1O"
      },
      "execution_count": null,
      "outputs": []
    }
  ]
}